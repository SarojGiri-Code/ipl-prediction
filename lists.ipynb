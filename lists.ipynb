{
 "cells": [
  {
   "cell_type": "code",
   "execution_count": 13,
   "id": "d2ccf405",
   "metadata": {},
   "outputs": [
    {
     "name": "stdout",
     "output_type": "stream",
     "text": [
      " saves in the different files\n"
     ]
    }
   ],
   "source": [
    "import pickle\n",
    "\n",
    "# Define your dictionary and list\n",
    "my_dict = {'key1': 'value1', 'key2': 'value2', 'key3': 'value3'}\n",
    "my_list = [1, 2, 3, 4, 5]\n",
    "\n",
    "# Save the dictionary and list to a file\n",
    "with open('data_dict.pkl', 'wb') as f:\n",
    "    pickle.dump(my_dict, f)\n",
    "    \n",
    "with open('data_list.pkl', 'wb') as f:\n",
    "    pickle.dump(my_list, f)\n",
    "    \n",
    "print(\" saves in the different files\")"
   ]
  },
  {
   "cell_type": "code",
   "execution_count": null,
   "id": "eb6b4b68",
   "metadata": {},
   "outputs": [],
   "source": []
  }
 ],
 "metadata": {
  "kernelspec": {
   "display_name": "Python 3 (ipykernel)",
   "language": "python",
   "name": "python3"
  },
  "language_info": {
   "codemirror_mode": {
    "name": "ipython",
    "version": 3
   },
   "file_extension": ".py",
   "mimetype": "text/x-python",
   "name": "python",
   "nbconvert_exporter": "python",
   "pygments_lexer": "ipython3",
   "version": "3.9.13"
  }
 },
 "nbformat": 4,
 "nbformat_minor": 5
}
