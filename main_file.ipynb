{
 "cells": [
  {
   "cell_type": "code",
   "execution_count": 6,
   "id": "96ac9d1d",
   "metadata": {},
   "outputs": [
    {
     "name": "stdout",
     "output_type": "stream",
     "text": [
      "Loaded dictionary: {'key1': 'value1', 'key2': 'value2', 'key3': 'value3'}\n",
      "Loaded list: [1, 2, 3, 4, 5]\n"
     ]
    }
   ],
   "source": [
    "import pickle\n",
    "\n",
    "# Load the dictionary and list from the file\n",
    "with open('data.pkl', 'rb') as f:\n",
    "    loaded_dict = pickle.load(f)\n",
    "    loaded_list = pickle.load(f)\n",
    "\n",
    "print(\"Loaded dictionary:\", loaded_dict)\n",
    "print(\"Loaded list:\", loaded_list)\n"
   ]
  },
  {
   "cell_type": "code",
   "execution_count": 7,
   "id": "15bdb3f2",
   "metadata": {},
   "outputs": [
    {
     "name": "stdout",
     "output_type": "stream",
     "text": [
      " load the dictionary sucesfully\n",
      " load the lists sucessfully\n"
     ]
    }
   ],
   "source": [
    "# open \n",
    "with open('data_dict.pkl','rb') as f:\n",
    "    dicts=pickle.load(f)\n",
    "print(\" load the dictionary sucesfully\")\n",
    "\n",
    "with open('data_list.pkl','rb') as f:\n",
    "    lists=pickle.load(f)\n",
    "print(\" load the lists sucessfully\")\n"
   ]
  },
  {
   "cell_type": "code",
   "execution_count": 8,
   "id": "c746fa19",
   "metadata": {},
   "outputs": [
    {
     "data": {
      "text/plain": [
       "[1, 2, 3, 4, 5]"
      ]
     },
     "execution_count": 8,
     "metadata": {},
     "output_type": "execute_result"
    }
   ],
   "source": [
    "lists"
   ]
  },
  {
   "cell_type": "code",
   "execution_count": 9,
   "id": "597dfe74",
   "metadata": {},
   "outputs": [
    {
     "data": {
      "text/plain": [
       "{'key1': 'value1', 'key2': 'value2', 'key3': 'value3'}"
      ]
     },
     "execution_count": 9,
     "metadata": {},
     "output_type": "execute_result"
    }
   ],
   "source": [
    "dicts"
   ]
  },
  {
   "cell_type": "code",
   "execution_count": null,
   "id": "2d0a6f71",
   "metadata": {},
   "outputs": [],
   "source": []
  }
 ],
 "metadata": {
  "kernelspec": {
   "display_name": "Python 3 (ipykernel)",
   "language": "python",
   "name": "python3"
  },
  "language_info": {
   "codemirror_mode": {
    "name": "ipython",
    "version": 3
   },
   "file_extension": ".py",
   "mimetype": "text/x-python",
   "name": "python",
   "nbconvert_exporter": "python",
   "pygments_lexer": "ipython3",
   "version": "3.9.13"
  }
 },
 "nbformat": 4,
 "nbformat_minor": 5
}
